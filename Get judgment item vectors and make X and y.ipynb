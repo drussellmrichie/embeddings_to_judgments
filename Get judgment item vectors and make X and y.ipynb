{
 "cells": [
  {
   "cell_type": "code",
   "execution_count": 1,
   "metadata": {},
   "outputs": [],
   "source": [
    "import pickle\n",
    "from gensim.models import KeyedVectors\n",
    "import pandas as pd"
   ]
  },
  {
   "cell_type": "code",
   "execution_count": 2,
   "metadata": {},
   "outputs": [],
   "source": [
    "with open(\"data/dict_of_dfs.pickle\", \"rb\") as handle:\n",
    "    dict_of_dfs = pickle.load(handle)"
   ]
  },
  {
   "cell_type": "code",
   "execution_count": 3,
   "metadata": {},
   "outputs": [],
   "source": [
    "# with open(\"data/dict_of_dfs_no_items_or_participants_dropped.pickle\", \"rb\") as handle:\n",
    "#     dict_of_dfs = pickle.load(handle)"
   ]
  },
  {
   "cell_type": "code",
   "execution_count": 4,
   "metadata": {},
   "outputs": [],
   "source": [
    "domains = ['brand', 'good', 'trait', 'food', 'occupation', 'risk', 'people']\n",
    "dims = [('sincere','exciting'),\n",
    "        ('hedonic','utilitarian'),\n",
    "        ('masculine','feminine'),\n",
    "        ('tasty','nutritious'),\n",
    "        ('significance','autonomy'),\n",
    "        ('dread-inducing','unknowable'),\n",
    "        ('warm', 'competent')]"
   ]
  },
  {
   "cell_type": "code",
   "execution_count": 5,
   "metadata": {},
   "outputs": [],
   "source": [
    "wv_from_bin = KeyedVectors.load_word2vec_format(fname=\"GoogleNews-vectors-negative300.bin\", binary=True)  # C binary format"
   ]
  },
  {
   "cell_type": "code",
   "execution_count": 6,
   "metadata": {},
   "outputs": [],
   "source": [
    "dict_of_Xs = dict()\n",
    "dict_of_ys = dict()\n",
    "dict_of_individual_ys = dict()"
   ]
  },
  {
   "cell_type": "code",
   "execution_count": 7,
   "metadata": {},
   "outputs": [],
   "source": [
    "for domain, dim_pair in zip(domains, dims):\n",
    "    df = dict_of_dfs[domain]\n",
    "    vectors = []\n",
    "    items = df[dim_pair[0]].columns\n",
    "    for item in items:    \n",
    "        vec = wv_from_bin[item.replace(\" \",\"_\")]\n",
    "        vectors.append(vec)\n",
    "    dict_of_Xs[domain] = pd.DataFrame(vectors, index=items)\n",
    "    for dim in dim_pair:\n",
    "        judgment_means = df[dim].mean()\n",
    "        judgment_means.name = 'judgment'\n",
    "        dict_of_ys[dim] = judgment_means\n",
    "        dict_of_individual_ys[dim] = df[dim]"
   ]
  },
  {
   "cell_type": "code",
   "execution_count": 8,
   "metadata": {},
   "outputs": [],
   "source": [
    "with open(\"data/dict_of_Xs.pickle\", \"wb\") as handle:\n",
    "    pickle.dump(dict_of_Xs, handle, protocol=pickle.HIGHEST_PROTOCOL)\n",
    "    \n",
    "with open(\"data/dict_of_ys.pickle\", \"wb\") as handle:\n",
    "    pickle.dump(dict_of_ys, handle, protocol=pickle.HIGHEST_PROTOCOL)\n",
    "    \n",
    "with open(\"data/dict_of_individual_ys.pickle\", \"wb\") as handle:\n",
    "    pickle.dump(dict_of_individual_ys, handle, protocol=pickle.HIGHEST_PROTOCOL)"
   ]
  },
  {
   "cell_type": "code",
   "execution_count": 9,
   "metadata": {},
   "outputs": [],
   "source": [
    "# with open(\"data/dict_of_Xs_nothing_dropped.pickle\", \"wb\") as handle:\n",
    "#     pickle.dump(dict_of_Xs, handle, protocol=pickle.HIGHEST_PROTOCOL)\n",
    "    \n",
    "# with open(\"data/dict_of_ys_nothing_dropped.pickle\", \"wb\") as handle:\n",
    "#     pickle.dump(dict_of_ys, handle, protocol=pickle.HIGHEST_PROTOCOL)\n",
    "    \n",
    "# with open(\"data/dict_of_individual_ys_nothing_dropped.pickle\", \"wb\") as handle:\n",
    "#     pickle.dump(dict_of_individual_ys, handle, protocol=pickle.HIGHEST_PROTOCOL)"
   ]
  }
 ],
 "metadata": {
  "kernelspec": {
   "display_name": "Python 3",
   "language": "python",
   "name": "python3"
  },
  "language_info": {
   "codemirror_mode": {
    "name": "ipython",
    "version": 3
   },
   "file_extension": ".py",
   "mimetype": "text/x-python",
   "name": "python",
   "nbconvert_exporter": "python",
   "pygments_lexer": "ipython3",
   "version": "3.6.8"
  }
 },
 "nbformat": 4,
 "nbformat_minor": 2
}
