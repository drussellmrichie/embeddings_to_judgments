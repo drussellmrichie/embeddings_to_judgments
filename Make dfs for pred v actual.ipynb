{
 "cells": [
  {
   "cell_type": "code",
   "execution_count": 1,
   "metadata": {},
   "outputs": [],
   "source": [
    "import pandas as pd\n",
    "import pickle\n",
    "import numpy as np\n",
    "from sklearn.model_selection import LeaveOneOut\n",
    "from sklearn.linear_model import Ridge\n",
    "from sklearn.preprocessing import normalize"
   ]
  },
  {
   "cell_type": "code",
   "execution_count": 2,
   "metadata": {},
   "outputs": [],
   "source": [
    "domains = ['brand', 'good', 'trait', 'food', 'occupation', 'risk', 'people']\n",
    "dims = [('sincere','exciting'),\n",
    "        ('hedonic','utilitarian'),\n",
    "        ('masculine','feminine'),\n",
    "        ('tasty','nutritious'),\n",
    "        ('significance','autonomy'),\n",
    "        ('dread-inducing','unknowable'),\n",
    "        ('warm', 'competent')]"
   ]
  },
  {
   "cell_type": "code",
   "execution_count": 3,
   "metadata": {},
   "outputs": [],
   "source": [
    "with open(\"data/dict_of_Xs.pickle\", \"rb\") as handle:\n",
    "    dict_of_Xs = pickle.load(handle)\n",
    "    \n",
    "with open(\"data/dict_of_ys.pickle\", \"rb\") as handle:\n",
    "    dict_of_ys = pickle.load(handle)"
   ]
  },
  {
   "cell_type": "code",
   "execution_count": 4,
   "metadata": {},
   "outputs": [],
   "source": [
    "# with open(\"data/dict_of_Xs_nothing_dropped.pickle\", \"rb\") as handle:\n",
    "#     dict_of_Xs = pickle.load(handle)\n",
    "    \n",
    "# with open(\"data/dict_of_ys_nothing_dropped.pickle\", \"rb\") as handle:\n",
    "#     dict_of_ys = pickle.load(handle)"
   ]
  },
  {
   "cell_type": "code",
   "execution_count": 5,
   "metadata": {},
   "outputs": [],
   "source": [
    "ridge = Ridge(alpha=10) # pre-reg'd analyses revealed ridge with alpha=10 had highest rsquared across dimensions "
   ]
  },
  {
   "cell_type": "code",
   "execution_count": 14,
   "metadata": {},
   "outputs": [],
   "source": [
    "for domain, dim_pair in zip(domains, dims):\n",
    "    for dim in dim_pair:\n",
    "        X = dict_of_Xs[domain].values\n",
    "#         X = normalize(X, norm='l2') # ONLY LEAVE THIS UNCOMMENTED IF WANT VECTORS NORMALIZED TO UNIT LENGTH\n",
    "        y = dict_of_ys[dim].values\n",
    "        loo = LeaveOneOut()\n",
    "        loo.get_n_splits(X) # not sure I actually need this?\n",
    "        y_preds = np.zeros(shape=len(y))\n",
    "        for train_index, test_index in loo.split(X):\n",
    "            X_train, X_test = X[train_index], X[test_index]\n",
    "            y_train, y_test = y[train_index], y[test_index]\n",
    "            ridge.fit(X=X_train, y=y_train)\n",
    "            y_pred = ridge.predict(X=X_test)[0]\n",
    "            y_preds[test_index] = y_pred\n",
    "        preds_and_actual =  pd.DataFrame({f'Actual {dim}':y, f'Predicted {dim}':y_preds}, index=dict_of_ys[dim].index)\n",
    "        preds_and_actual.to_csv(f'results/best_ridge_pred_vs_actual/{dim}.csv')\n",
    "#         preds_and_actual.to_csv(f'results/best_ridge_pred_vs_actual_nothing_dropped/{dim}.csv')\n",
    "#         preds_and_actual.to_csv(f'results/best_ridge_pred_vs_actual_normalized_vectors/{dim}.csv')"
   ]
  }
 ],
 "metadata": {
  "kernelspec": {
   "display_name": "Python 3",
   "language": "python",
   "name": "python3"
  },
  "language_info": {
   "codemirror_mode": {
    "name": "ipython",
    "version": 3
   },
   "file_extension": ".py",
   "mimetype": "text/x-python",
   "name": "python",
   "nbconvert_exporter": "python",
   "pygments_lexer": "ipython3",
   "version": "3.6.8"
  }
 },
 "nbformat": 4,
 "nbformat_minor": 2
}
