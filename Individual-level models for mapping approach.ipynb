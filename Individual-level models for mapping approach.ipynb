{
 "cells": [
  {
   "cell_type": "code",
   "execution_count": 1,
   "metadata": {},
   "outputs": [],
   "source": [
    "import pandas as pd\n",
    "import pickle\n",
    "import numpy as np\n",
    "from sklearn.model_selection import LeaveOneOut\n",
    "from sklearn.linear_model import Ridge\n",
    "from scipy.stats import pearsonr\n",
    "from tqdm import tqdm\n",
    "import seaborn as sns\n",
    "import matplotlib.pyplot as plt"
   ]
  },
  {
   "cell_type": "code",
   "execution_count": 2,
   "metadata": {},
   "outputs": [],
   "source": [
    "domains = ['brand', 'good', 'trait', 'food', 'occupation', 'risk', 'people']\n",
    "dims = [('sincere','exciting'),\n",
    "        ('hedonic','utilitarian'),\n",
    "        ('masculine','feminine'),\n",
    "        ('tasty','nutritious'),\n",
    "        ('significance','autonomy'),\n",
    "        ('dread-inducing','unknowable'),\n",
    "        ('warm', 'competent')]"
   ]
  },
  {
   "cell_type": "code",
   "execution_count": 3,
   "metadata": {},
   "outputs": [],
   "source": [
    "with open(\"data/dict_of_Xs.pickle\", \"rb\") as handle:\n",
    "    dict_of_Xs = pickle.load(handle)\n",
    "    \n",
    "with open(\"data/dict_of_individual_ys.pickle\", \"rb\") as handle:\n",
    "    dict_of_individual_ys = pickle.load(handle)"
   ]
  },
  {
   "cell_type": "code",
   "execution_count": 4,
   "metadata": {},
   "outputs": [],
   "source": [
    "ridge = Ridge(alpha=10) # pre-reg'd analyses revealed ridge with alpha=10 had highest rsquared across dimensions"
   ]
  },
  {
   "cell_type": "code",
   "execution_count": 5,
   "metadata": {},
   "outputs": [],
   "source": [
    "dict_of_individual_y_preds = dict()"
   ]
  },
  {
   "cell_type": "markdown",
   "metadata": {},
   "source": [
    "# Check dimension-specific distributions of percentage of items not rated"
   ]
  },
  {
   "cell_type": "code",
   "execution_count": 6,
   "metadata": {},
   "outputs": [
    {
     "data": {
      "text/html": [
       "<div>\n",
       "<style scoped>\n",
       "    .dataframe tbody tr th:only-of-type {\n",
       "        vertical-align: middle;\n",
       "    }\n",
       "\n",
       "    .dataframe tbody tr th {\n",
       "        vertical-align: top;\n",
       "    }\n",
       "\n",
       "    .dataframe thead th {\n",
       "        text-align: right;\n",
       "    }\n",
       "</style>\n",
       "<table border=\"1\" class=\"dataframe\">\n",
       "  <thead>\n",
       "    <tr style=\"text-align: right;\">\n",
       "      <th></th>\n",
       "      <th>dim</th>\n",
       "      <th>mean_missing_items</th>\n",
       "    </tr>\n",
       "  </thead>\n",
       "  <tbody>\n",
       "    <tr>\n",
       "      <th>0</th>\n",
       "      <td>sincere</td>\n",
       "      <td>20.882353</td>\n",
       "    </tr>\n",
       "    <tr>\n",
       "      <th>1</th>\n",
       "      <td>exciting</td>\n",
       "      <td>20.882353</td>\n",
       "    </tr>\n",
       "    <tr>\n",
       "      <th>2</th>\n",
       "      <td>hedonic</td>\n",
       "      <td>4.000000</td>\n",
       "    </tr>\n",
       "    <tr>\n",
       "      <th>3</th>\n",
       "      <td>utilitarian</td>\n",
       "      <td>3.282609</td>\n",
       "    </tr>\n",
       "    <tr>\n",
       "      <th>4</th>\n",
       "      <td>masculine</td>\n",
       "      <td>26.863636</td>\n",
       "    </tr>\n",
       "    <tr>\n",
       "      <th>5</th>\n",
       "      <td>feminine</td>\n",
       "      <td>26.909091</td>\n",
       "    </tr>\n",
       "    <tr>\n",
       "      <th>6</th>\n",
       "      <td>tasty</td>\n",
       "      <td>9.500000</td>\n",
       "    </tr>\n",
       "    <tr>\n",
       "      <th>7</th>\n",
       "      <td>nutritious</td>\n",
       "      <td>8.437500</td>\n",
       "    </tr>\n",
       "    <tr>\n",
       "      <th>8</th>\n",
       "      <td>significance</td>\n",
       "      <td>6.809524</td>\n",
       "    </tr>\n",
       "    <tr>\n",
       "      <th>9</th>\n",
       "      <td>autonomy</td>\n",
       "      <td>6.809524</td>\n",
       "    </tr>\n",
       "    <tr>\n",
       "      <th>10</th>\n",
       "      <td>dread-inducing</td>\n",
       "      <td>3.051282</td>\n",
       "    </tr>\n",
       "    <tr>\n",
       "      <th>11</th>\n",
       "      <td>unknowable</td>\n",
       "      <td>5.076923</td>\n",
       "    </tr>\n",
       "    <tr>\n",
       "      <th>12</th>\n",
       "      <td>warm</td>\n",
       "      <td>22.655172</td>\n",
       "    </tr>\n",
       "    <tr>\n",
       "      <th>13</th>\n",
       "      <td>competent</td>\n",
       "      <td>20.551724</td>\n",
       "    </tr>\n",
       "  </tbody>\n",
       "</table>\n",
       "</div>"
      ],
      "text/plain": [
       "               dim  mean_missing_items\n",
       "0          sincere           20.882353\n",
       "1         exciting           20.882353\n",
       "2          hedonic            4.000000\n",
       "3      utilitarian            3.282609\n",
       "4        masculine           26.863636\n",
       "5         feminine           26.909091\n",
       "6            tasty            9.500000\n",
       "7       nutritious            8.437500\n",
       "8     significance            6.809524\n",
       "9         autonomy            6.809524\n",
       "10  dread-inducing            3.051282\n",
       "11      unknowable            5.076923\n",
       "12            warm           22.655172\n",
       "13       competent           20.551724"
      ]
     },
     "execution_count": 6,
     "metadata": {},
     "output_type": "execute_result"
    }
   ],
   "source": [
    "mean_missing = pd.DataFrame([(dim, df.isna().sum(axis='columns').mean()) for dim, df in dict_of_individual_ys.items()], \n",
    "                             columns=['dim','mean_missing_items'])\n",
    "mean_missing"
   ]
  },
  {
   "cell_type": "code",
   "execution_count": 7,
   "metadata": {},
   "outputs": [
    {
     "data": {
      "text/plain": [
       "mean_missing_items    13.265121\n",
       "dtype: float64"
      ]
     },
     "execution_count": 7,
     "metadata": {},
     "output_type": "execute_result"
    }
   ],
   "source": [
    "mean_missing.mean()"
   ]
  },
  {
   "cell_type": "markdown",
   "metadata": {},
   "source": [
    "# Train models"
   ]
  },
  {
   "cell_type": "code",
   "execution_count": 8,
   "metadata": {},
   "outputs": [
    {
     "name": "stderr",
     "output_type": "stream",
     "text": [
      "7it [01:50, 15.80s/it]\n"
     ]
    }
   ],
   "source": [
    "for domain, dim_pair in tqdm(zip(domains, dims)):\n",
    "    X = dict_of_Xs[domain].values\n",
    "#     X = X[:100]\n",
    "    for dim in dim_pair:\n",
    "        all_individual_preds = np.zeros(shape=dict_of_individual_ys[dim].shape)\n",
    "#         all_individual_preds = np.zeros(shape=(dict_of_individual_ys[dim].shape[0], 100))\n",
    "        for individual_idx, y in enumerate(dict_of_individual_ys[dim].values):\n",
    "#             y = y[:100]\n",
    "            y_preds = np.zeros(shape=len(y))\n",
    "            loo = LeaveOneOut()\n",
    "            for train_index, test_index in loo.split(X):\n",
    "                X_train, X_test = X[train_index], X[test_index]\n",
    "                y_train = y[train_index].astype(float)\n",
    "\n",
    "                y_notna_idxs = ~np.isnan(y_train)\n",
    "                y_train = y_train[y_notna_idxs]\n",
    "                X_train = X_train[y_notna_idxs]\n",
    "\n",
    "                ridge.fit(X=X_train, y=y_train)\n",
    "                y_pred = ridge.predict(X=X_test)[0]\n",
    "                y_preds[test_index] = y_pred\n",
    "            all_individual_preds[individual_idx] = y_preds\n",
    "        individual_predictions = pd.DataFrame(all_individual_preds, columns=dict_of_individual_ys[dim].columns)\n",
    "#         individual_predictions = pd.DataFrame(all_individual_preds, columns=dict_of_individual_ys[dim].columns[:100])\n",
    "        dict_of_individual_y_preds[dim] = individual_predictions"
   ]
  },
  {
   "cell_type": "code",
   "execution_count": 9,
   "metadata": {},
   "outputs": [],
   "source": [
    "with open(\"data/dict_of_individual_y_preds.pickle\", \"wb\") as handle:\n",
    "    pickle.dump(dict_of_individual_y_preds, handle, protocol=pickle.HIGHEST_PROTOCOL)"
   ]
  },
  {
   "cell_type": "markdown",
   "metadata": {},
   "source": [
    "# Compute and visualize actual vs pred correlations"
   ]
  },
  {
   "cell_type": "code",
   "execution_count": 10,
   "metadata": {},
   "outputs": [],
   "source": [
    "if 'dict_of_individual_y_preds' not in globals():\n",
    "    with open(\"data/dict_of_individual_y_preds.pickle\", \"rb\") as handle:\n",
    "        dict_of_individual_y_preds = pickle.load(handle)"
   ]
  },
  {
   "cell_type": "code",
   "execution_count": 11,
   "metadata": {},
   "outputs": [],
   "source": [
    "all_participant_rs = []\n",
    "dims = dict_of_individual_ys.keys()\n",
    "for dim in dims:\n",
    "    df_ys      = dict_of_individual_ys[dim]\n",
    "#     df_ys      = dict_of_individual_ys[dim].iloc[:,:100]\n",
    "    df_y_preds = dict_of_individual_y_preds[dim]\n",
    "    dim_rs = []\n",
    "    for ys, y_preds in zip(df_ys.values, df_y_preds.values):\n",
    "        y_not_na_idx = ~np.isnan(ys.astype(float))\n",
    "\n",
    "        ys_not_na      = ys[y_not_na_idx]\n",
    "        y_preds_not_na = y_preds[y_not_na_idx]\n",
    "        \n",
    "        r, _ = pearsonr(ys_not_na, y_preds_not_na)\n",
    "        dim_rs.append(r)\n",
    "    all_participant_rs.append(dim_rs)\n",
    "all_participant_rs_df = pd.DataFrame(all_participant_rs, index=dims).T"
   ]
  },
  {
   "cell_type": "code",
   "execution_count": 12,
   "metadata": {},
   "outputs": [],
   "source": [
    "all_participant_rs_df_stacked = all_participant_rs_df.stack().reset_index()\n",
    "all_participant_rs_df_stacked.columns = ['participant_number', 'Judgment Dimension', 'Correlation of Pred vs Actual']"
   ]
  },
  {
   "cell_type": "code",
   "execution_count": 13,
   "metadata": {},
   "outputs": [],
   "source": [
    "all_participant_rs_df_stacked.to_csv('results/individual-level_mapping_model_results.csv', index=False)"
   ]
  },
  {
   "cell_type": "code",
   "execution_count": 14,
   "metadata": {},
   "outputs": [
    {
     "data": {
      "image/png": "[encoded data removed]",
      "text/plain": [
       "<Figure size 1080x576 with 1 Axes>"
      ]
     },
     "metadata": {
      "needs_background": "light"
     },
     "output_type": "display_data"
    }
   ],
   "source": [
    "plt.figure(figsize=(15,8))\n",
    "plt.xticks(rotation=45);\n",
    "sns.barplot(data=all_participant_rs_df_stacked, x='Judgment Dimension', y='Correlation of Pred vs Actual', color='gray');\n",
    "plt.savefig('figures/individual_level_mapping_pred_v_actual_correlation_barplots.png')"
   ]
  },
  {
   "cell_type": "code",
   "execution_count": 15,
   "metadata": {},
   "outputs": [
    {
     "data": {
      "text/plain": [
       "participant_number               17.357143\n",
       "Correlation of Pred vs Actual     0.522605\n",
       "dtype: float64"
      ]
     },
     "execution_count": 15,
     "metadata": {},
     "output_type": "execute_result"
    }
   ],
   "source": [
    "all_participant_rs_df_stacked.groupby('Judgment Dimension').mean().mean()"
   ]
  },
  {
   "cell_type": "code",
   "execution_count": null,
   "metadata": {},
   "outputs": [],
   "source": []
  }
 ],
 "metadata": {
  "kernelspec": {
   "display_name": "Python 3",
   "language": "python",
   "name": "python3"
  },
  "language_info": {
   "codemirror_mode": {
    "name": "ipython",
    "version": 3
   },
   "file_extension": ".py",
   "mimetype": "text/x-python",
   "name": "python",
   "nbconvert_exporter": "python",
   "pygments_lexer": "ipython3",
   "version": "3.6.8"
  }
 },
 "nbformat": 4,
 "nbformat_minor": 2
}
