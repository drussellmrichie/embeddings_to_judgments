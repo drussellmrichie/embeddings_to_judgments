{
 "cells": [
  {
   "cell_type": "code",
   "execution_count": null,
   "metadata": {},
   "outputs": [],
   "source": [
    "import pickle\n",
    "import pandas as pd\n",
    "import numpy as np\n",
    "from gensim.models import KeyedVectors\n",
    "from itertools import product\n",
    "import warnings\n",
    "from tqdm import tqdm\n",
    "\n",
    "warnings.filterwarnings(\"ignore\")"
   ]
  },
  {
   "cell_type": "code",
   "execution_count": null,
   "metadata": {},
   "outputs": [],
   "source": [
    "domains = ['brand', 'good', 'trait', 'food', 'occupation', 'risk', 'people']\n",
    "dims = [('sincere','exciting'),\n",
    "        ('hedonic','utilitarian'),\n",
    "        ('masculine','feminine'),\n",
    "        ('tasty','nutritious'),\n",
    "        ('significance','autonomy'),\n",
    "        ('dread-inducing','unknowable'),\n",
    "        ('warm', 'competent')]\n",
    "\n",
    "dim_names_flattened = [x for dim_pair in dims for x in dim_pair]"
   ]
  },
  {
   "cell_type": "code",
   "execution_count": null,
   "metadata": {},
   "outputs": [],
   "source": [
    "wv_from_bin = KeyedVectors.load_word2vec_format(fname=\"GoogleNews-vectors-negative300.bin\", binary=True)  # C binary format"
   ]
  },
  {
   "cell_type": "code",
   "execution_count": null,
   "metadata": {},
   "outputs": [],
   "source": [
    "# high_words = pd.read_excel('data/judgment_lexicons.xlsx', sheet_name='high')\n",
    "high_words = pd.read_excel('data/judgment_lexicons_alt_gender.xlsx', sheet_name='high')\n",
    "high_words.head(7)"
   ]
  },
  {
   "cell_type": "code",
   "execution_count": null,
   "metadata": {},
   "outputs": [],
   "source": [
    "def get_vec(word):\n",
    "    try:\n",
    "        return wv_from_bin[word]\n",
    "    except:\n",
    "        if type(word) == str:\n",
    "            print(word)\n",
    "        return np.nan"
   ]
  },
  {
   "cell_type": "code",
   "execution_count": null,
   "metadata": {},
   "outputs": [],
   "source": [
    "high_word_vecs = high_words.applymap(get_vec)\n",
    "high_word_vecs"
   ]
  },
  {
   "cell_type": "code",
   "execution_count": null,
   "metadata": {},
   "outputs": [],
   "source": [
    "# low_words = pd.read_excel('data/judgment_lexicons.xlsx', sheet_name='low')\n",
    "low_words = pd.read_excel('data/judgment_lexicons_alt_gender.xlsx', sheet_name='low')\n",
    "low_word_vecs = low_words.applymap(get_vec)"
   ]
  },
  {
   "cell_type": "code",
   "execution_count": null,
   "metadata": {},
   "outputs": [],
   "source": [
    "dim_vecs = []\n",
    "for dim in high_word_vecs.columns:\n",
    "    curr_high = high_word_vecs[dim].dropna()\n",
    "    curr_low  = low_word_vecs[dim].dropna()\n",
    "    avg_diff = np.array([(high-low) for high, low, in product(curr_high, curr_low)]).mean(axis=0)\n",
    "    dim_vecs.append(avg_diff)\n",
    "dim_vecs_df = pd.DataFrame(dim_vecs, index=high_word_vecs.columns)\n",
    "dim_vecs_df"
   ]
  },
  {
   "cell_type": "code",
   "execution_count": null,
   "metadata": {},
   "outputs": [],
   "source": [
    "# dim_vecs_df.to_csv('data/word2vec_similarity_dim_vecs.csv')\n",
    "dim_vecs_df.to_csv('data/word2vec_similarity_alt_gender_dim_vecs.csv')"
   ]
  },
  {
   "cell_type": "code",
   "execution_count": null,
   "metadata": {},
   "outputs": [],
   "source": []
  }
 ],
 "metadata": {
  "kernelspec": {
   "display_name": "Python 3",
   "language": "python",
   "name": "python3"
  },
  "language_info": {
   "codemirror_mode": {
    "name": "ipython",
    "version": 3
   },
   "file_extension": ".py",
   "mimetype": "text/x-python",
   "name": "python",
   "nbconvert_exporter": "python",
   "pygments_lexer": "ipython3",
   "version": "3.6.5"
  }
 },
 "nbformat": 4,
 "nbformat_minor": 2
}
