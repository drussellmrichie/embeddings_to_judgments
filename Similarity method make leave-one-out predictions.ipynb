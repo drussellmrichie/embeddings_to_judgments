{
 "cells": [
  {
   "cell_type": "code",
   "execution_count": 1,
   "metadata": {},
   "outputs": [],
   "source": [
    "import pickle\n",
    "import pandas as pd\n",
    "import numpy as np\n",
    "from gensim.models import KeyedVectors\n",
    "from itertools import product\n",
    "import seaborn as sns\n",
    "import matplotlib.pyplot as plt\n",
    "from scipy.stats import pearsonr\n",
    "import warnings\n",
    "from sklearn.model_selection import LeaveOneOut\n",
    "from sklearn.linear_model import LinearRegression\n",
    "from tqdm import tqdm\n",
    "\n",
    "warnings.filterwarnings(\"ignore\")"
   ]
  },
  {
   "cell_type": "code",
   "execution_count": 2,
   "metadata": {},
   "outputs": [],
   "source": [
    "domains = ['brand', 'good', 'trait', 'food', 'occupation', 'risk', 'people']\n",
    "dims = [('sincere','exciting'),\n",
    "        ('hedonic','utilitarian'),\n",
    "        ('masculine','feminine'),\n",
    "        ('tasty','nutritious'),\n",
    "        ('significance','autonomy'),\n",
    "        ('dread-inducing','unknowable'),\n",
    "        ('warm', 'competent')]\n",
    "\n",
    "# domains = ['trait']\n",
    "# dims = [('masculine', 'feminine')]\n",
    "\n",
    "dim_names_flattened = [x for dim_pair in dims for x in dim_pair]"
   ]
  },
  {
   "cell_type": "code",
   "execution_count": 3,
   "metadata": {},
   "outputs": [
    {
     "data": {
      "text/html": [
       "<div>\n",
       "<style scoped>\n",
       "    .dataframe tbody tr th:only-of-type {\n",
       "        vertical-align: middle;\n",
       "    }\n",
       "\n",
       "    .dataframe tbody tr th {\n",
       "        vertical-align: top;\n",
       "    }\n",
       "\n",
       "    .dataframe thead th {\n",
       "        text-align: right;\n",
       "    }\n",
       "</style>\n",
       "<table border=\"1\" class=\"dataframe\">\n",
       "  <thead>\n",
       "    <tr style=\"text-align: right;\">\n",
       "      <th></th>\n",
       "      <th>0</th>\n",
       "      <th>1</th>\n",
       "      <th>2</th>\n",
       "      <th>3</th>\n",
       "      <th>4</th>\n",
       "      <th>5</th>\n",
       "      <th>6</th>\n",
       "      <th>7</th>\n",
       "      <th>8</th>\n",
       "      <th>9</th>\n",
       "      <th>...</th>\n",
       "      <th>290</th>\n",
       "      <th>291</th>\n",
       "      <th>292</th>\n",
       "      <th>293</th>\n",
       "      <th>294</th>\n",
       "      <th>295</th>\n",
       "      <th>296</th>\n",
       "      <th>297</th>\n",
       "      <th>298</th>\n",
       "      <th>299</th>\n",
       "    </tr>\n",
       "  </thead>\n",
       "  <tbody>\n",
       "    <tr>\n",
       "      <th>sincere</th>\n",
       "      <td>-0.090576</td>\n",
       "      <td>0.056602</td>\n",
       "      <td>-0.059738</td>\n",
       "      <td>0.230011</td>\n",
       "      <td>0.081116</td>\n",
       "      <td>0.090279</td>\n",
       "      <td>0.228943</td>\n",
       "      <td>-0.005371</td>\n",
       "      <td>-0.083893</td>\n",
       "      <td>-0.082916</td>\n",
       "      <td>...</td>\n",
       "      <td>-0.096397</td>\n",
       "      <td>-0.038284</td>\n",
       "      <td>0.026642</td>\n",
       "      <td>-0.122517</td>\n",
       "      <td>-0.019836</td>\n",
       "      <td>0.098328</td>\n",
       "      <td>0.054337</td>\n",
       "      <td>-0.051895</td>\n",
       "      <td>0.130005</td>\n",
       "      <td>-0.097415</td>\n",
       "    </tr>\n",
       "    <tr>\n",
       "      <th>exciting</th>\n",
       "      <td>-0.134979</td>\n",
       "      <td>-0.131195</td>\n",
       "      <td>-0.031158</td>\n",
       "      <td>-0.109253</td>\n",
       "      <td>0.154205</td>\n",
       "      <td>-0.242981</td>\n",
       "      <td>-0.252869</td>\n",
       "      <td>0.102875</td>\n",
       "      <td>-0.137268</td>\n",
       "      <td>-0.061630</td>\n",
       "      <td>...</td>\n",
       "      <td>0.025345</td>\n",
       "      <td>-0.081116</td>\n",
       "      <td>-0.119629</td>\n",
       "      <td>-0.248619</td>\n",
       "      <td>0.087677</td>\n",
       "      <td>-0.021038</td>\n",
       "      <td>-0.006592</td>\n",
       "      <td>-0.044891</td>\n",
       "      <td>0.047729</td>\n",
       "      <td>-0.097046</td>\n",
       "    </tr>\n",
       "    <tr>\n",
       "      <th>hedonic</th>\n",
       "      <td>-0.094686</td>\n",
       "      <td>-0.138184</td>\n",
       "      <td>-0.052444</td>\n",
       "      <td>-0.001607</td>\n",
       "      <td>0.130692</td>\n",
       "      <td>-0.265666</td>\n",
       "      <td>-0.163249</td>\n",
       "      <td>0.034688</td>\n",
       "      <td>-0.263947</td>\n",
       "      <td>0.026693</td>\n",
       "      <td>...</td>\n",
       "      <td>0.022400</td>\n",
       "      <td>-0.000488</td>\n",
       "      <td>-0.030711</td>\n",
       "      <td>-0.190470</td>\n",
       "      <td>0.060465</td>\n",
       "      <td>-0.013041</td>\n",
       "      <td>0.049377</td>\n",
       "      <td>-0.024394</td>\n",
       "      <td>0.098256</td>\n",
       "      <td>-0.171712</td>\n",
       "    </tr>\n",
       "    <tr>\n",
       "      <th>utilitarian</th>\n",
       "      <td>-0.153661</td>\n",
       "      <td>-0.243525</td>\n",
       "      <td>-0.179016</td>\n",
       "      <td>-0.005483</td>\n",
       "      <td>0.156576</td>\n",
       "      <td>-0.251504</td>\n",
       "      <td>-0.033610</td>\n",
       "      <td>0.030248</td>\n",
       "      <td>-0.071508</td>\n",
       "      <td>-0.213359</td>\n",
       "      <td>...</td>\n",
       "      <td>-0.204427</td>\n",
       "      <td>-0.147685</td>\n",
       "      <td>0.080009</td>\n",
       "      <td>-0.008789</td>\n",
       "      <td>0.112905</td>\n",
       "      <td>0.175964</td>\n",
       "      <td>0.139882</td>\n",
       "      <td>-0.102478</td>\n",
       "      <td>0.159098</td>\n",
       "      <td>-0.065104</td>\n",
       "    </tr>\n",
       "    <tr>\n",
       "      <th>masculine</th>\n",
       "      <td>-0.103109</td>\n",
       "      <td>0.088967</td>\n",
       "      <td>0.124990</td>\n",
       "      <td>-0.216858</td>\n",
       "      <td>0.165080</td>\n",
       "      <td>-0.187937</td>\n",
       "      <td>-0.153849</td>\n",
       "      <td>0.115448</td>\n",
       "      <td>-0.010559</td>\n",
       "      <td>-0.054955</td>\n",
       "      <td>...</td>\n",
       "      <td>0.028158</td>\n",
       "      <td>-0.133870</td>\n",
       "      <td>0.070394</td>\n",
       "      <td>-0.058451</td>\n",
       "      <td>0.039907</td>\n",
       "      <td>0.012098</td>\n",
       "      <td>-0.149007</td>\n",
       "      <td>-0.273158</td>\n",
       "      <td>0.033691</td>\n",
       "      <td>0.016154</td>\n",
       "    </tr>\n",
       "  </tbody>\n",
       "</table>\n",
       "<p>5 rows × 300 columns</p>\n",
       "</div>"
      ],
      "text/plain": [
       "                    0         1         2         3         4         5  \\\n",
       "sincere     -0.090576  0.056602 -0.059738  0.230011  0.081116  0.090279   \n",
       "exciting    -0.134979 -0.131195 -0.031158 -0.109253  0.154205 -0.242981   \n",
       "hedonic     -0.094686 -0.138184 -0.052444 -0.001607  0.130692 -0.265666   \n",
       "utilitarian -0.153661 -0.243525 -0.179016 -0.005483  0.156576 -0.251504   \n",
       "masculine   -0.103109  0.088967  0.124990 -0.216858  0.165080 -0.187937   \n",
       "\n",
       "                    6         7         8         9    ...          290  \\\n",
       "sincere      0.228943 -0.005371 -0.083893 -0.082916    ...    -0.096397   \n",
       "exciting    -0.252869  0.102875 -0.137268 -0.061630    ...     0.025345   \n",
       "hedonic     -0.163249  0.034688 -0.263947  0.026693    ...     0.022400   \n",
       "utilitarian -0.033610  0.030248 -0.071508 -0.213359    ...    -0.204427   \n",
       "masculine   -0.153849  0.115448 -0.010559 -0.054955    ...     0.028158   \n",
       "\n",
       "                  291       292       293       294       295       296  \\\n",
       "sincere     -0.038284  0.026642 -0.122517 -0.019836  0.098328  0.054337   \n",
       "exciting    -0.081116 -0.119629 -0.248619  0.087677 -0.021038 -0.006592   \n",
       "hedonic     -0.000488 -0.030711 -0.190470  0.060465 -0.013041  0.049377   \n",
       "utilitarian -0.147685  0.080009 -0.008789  0.112905  0.175964  0.139882   \n",
       "masculine   -0.133870  0.070394 -0.058451  0.039907  0.012098 -0.149007   \n",
       "\n",
       "                  297       298       299  \n",
       "sincere     -0.051895  0.130005 -0.097415  \n",
       "exciting    -0.044891  0.047729 -0.097046  \n",
       "hedonic     -0.024394  0.098256 -0.171712  \n",
       "utilitarian -0.102478  0.159098 -0.065104  \n",
       "masculine   -0.273158  0.033691  0.016154  \n",
       "\n",
       "[5 rows x 300 columns]"
      ]
     },
     "execution_count": 3,
     "metadata": {},
     "output_type": "execute_result"
    }
   ],
   "source": [
    "# dim_vecs_df = pd.read_csv('data/word2vec_similarity_dim_vecs.csv', index_col=0)\n",
    "dim_vecs_df = pd.read_csv('data/word2vec_similarity_alt_gender_dim_vecs.csv', index_col=0)\n",
    "# dim_vecs_df = pd.read_csv('data/paragram_similarity_dim_vecs.csv', index_col=0)\n",
    "dim_vecs_df.head()"
   ]
  },
  {
   "cell_type": "code",
   "execution_count": 4,
   "metadata": {},
   "outputs": [],
   "source": [
    "with open(\"data/dict_of_Xs.pickle\", \"rb\") as handle:\n",
    "    dict_of_Xs = pickle.load(handle)\n",
    "\n",
    "# with open(\"data/dict_of_Xs_paragram.pickle\", \"rb\") as handle:\n",
    "#     dict_of_Xs = pickle.load(handle)\n",
    "\n",
    "with open(\"data/dict_of_ys.pickle\", \"rb\") as handle:\n",
    "    dict_of_ys = pickle.load(handle)"
   ]
  },
  {
   "cell_type": "code",
   "execution_count": 5,
   "metadata": {},
   "outputs": [
    {
     "data": {
      "text/plain": [
       "dict_keys(['brand', 'good', 'trait', 'food', 'occupation', 'risk', 'people'])"
      ]
     },
     "execution_count": 5,
     "metadata": {},
     "output_type": "execute_result"
    }
   ],
   "source": [
    "dict_of_Xs.keys()"
   ]
  },
  {
   "cell_type": "markdown",
   "metadata": {},
   "source": [
    "# Modeling means"
   ]
  },
  {
   "cell_type": "code",
   "execution_count": 6,
   "metadata": {},
   "outputs": [],
   "source": [
    "# correlation_results = []\n",
    "\n",
    "regr = LinearRegression()\n",
    "\n",
    "for domain, dim_pair in zip(domains, dims):\n",
    "    X = dict_of_Xs[domain]\n",
    "    for dim in dim_pair:\n",
    "        dim_vec = dim_vecs_df.loc[dim].values\n",
    "        dot_products = X.applymap(float).dot(dim_vec).to_frame()\n",
    "        y = dict_of_ys[dim]\n",
    "        y.name = f'actual_{dim}'\n",
    "\n",
    "        y_preds = np.zeros(shape=len(y))\n",
    "        loo = LeaveOneOut()\n",
    "        for train_index, test_index in loo.split(dot_products):\n",
    "            dot_products_train, dot_products_test = dot_products.iloc[train_index], dot_products.iloc[test_index]\n",
    "            y_train, y_test = y[train_index], y[test_index]\n",
    "            regr.fit(X=dot_products_train, y=y_train)\n",
    "            y_pred = regr.predict(X=dot_products_test)\n",
    "            y_preds[test_index] = y_pred\n",
    "            \n",
    "        preds_and_actual =  pd.DataFrame({f'Actual {dim}':y, f'Predicted {dim}':y_preds}, index=dict_of_ys[dim].index)\n",
    "        preds_and_actual.to_csv(f'results/grand_method_actual_vs_pred/{dim}.csv')                      \n",
    "#         preds_and_actual.to_csv(f'results/grand_method_actual_vs_pred_paragram/{dim}.csv')                      \n",
    "#         dot_products = pd.Series(dot_products, name=f'predicted_{dim}')\n",
    "\n",
    "#         sns.jointplot(x=dot_products, y=y)\n",
    "#         plt.savefig(f'figures/pred_v_actual_scatterplots_grand_et_al/{dim}.png')\n",
    "#         plt.show()\n",
    "        \n",
    "#         r, p = pearsonr(dot_products, y)\n",
    "#         correlation_results.append((r,p, r**2))\n",
    "        \n",
    "# correlation_results = pd.DataFrame(correlation_results, index=dim_names_flattened, columns=['r','p','rsquared'])\n",
    "# correlation_results.to_csv('results/grand_et_al_method.csv', float_format='%.4f')"
   ]
  },
  {
   "cell_type": "markdown",
   "metadata": {},
   "source": [
    "# Modeling individuals"
   ]
  },
  {
   "cell_type": "code",
   "execution_count": 7,
   "metadata": {},
   "outputs": [],
   "source": [
    "with open(\"data/dict_of_individual_ys.pickle\", \"rb\") as handle:\n",
    "    dict_of_individual_ys = pickle.load(handle)"
   ]
  },
  {
   "cell_type": "code",
   "execution_count": 8,
   "metadata": {},
   "outputs": [],
   "source": [
    "regr = LinearRegression()"
   ]
  },
  {
   "cell_type": "code",
   "execution_count": 9,
   "metadata": {},
   "outputs": [],
   "source": [
    "dict_of_individual_similarity_y_preds = dict()"
   ]
  },
  {
   "cell_type": "code",
   "execution_count": 10,
   "metadata": {},
   "outputs": [
    {
     "name": "stderr",
     "output_type": "stream",
     "text": [
      "7it [01:38, 14.06s/it]\n"
     ]
    }
   ],
   "source": [
    "for domain, dim_pair in tqdm(zip(domains, dims)):\n",
    "    X = dict_of_Xs[domain]\n",
    "    for dim in dim_pair:\n",
    "        dim_vec = dim_vecs_df.loc[dim].values\n",
    "        dot_products = X.applymap(float).dot(dim_vec).to_frame()\n",
    "        \n",
    "        all_individual_preds = np.zeros(shape=dict_of_individual_ys[dim].shape)\n",
    "        for individual_idx, y in enumerate(dict_of_individual_ys[dim].values):\n",
    "            y_preds = np.zeros(shape=len(y))\n",
    "            loo = LeaveOneOut()\n",
    "            for train_index, test_index in loo.split(dot_products):\n",
    "                X_train = dot_products.iloc[train_index] \n",
    "                X_test  = dot_products.iloc[test_index]\n",
    "                y_train = y[train_index].astype(float)\n",
    "                \n",
    "                y_notna_idxs = ~np.isnan(y_train)\n",
    "                y_train = y_train[y_notna_idxs]\n",
    "                X_train = X_train[y_notna_idxs]\n",
    "                \n",
    "                regr.fit(X=X_train, y=y_train)\n",
    "                y_pred = regr.predict(X=X_test)[0]\n",
    "                y_preds[test_index] = y_pred\n",
    "            all_individual_preds[individual_idx] = y_preds\n",
    "        individual_predictions = pd.DataFrame(all_individual_preds, \n",
    "                                              columns=dict_of_individual_ys[dim].columns)\n",
    "        dict_of_individual_similarity_y_preds[dim] = individual_predictions"
   ]
  },
  {
   "cell_type": "code",
   "execution_count": 11,
   "metadata": {},
   "outputs": [],
   "source": [
    "with open(\"results/dict_of_individual_similarity_y_preds.pickle\", \"wb\") as handle:\n",
    "# with open(\"results/dict_of_individual_similarity_y_preds_paragram.pickle\", \"wb\") as handle:\n",
    "    pickle.dump(dict_of_individual_similarity_y_preds, handle, protocol=pickle.HIGHEST_PROTOCOL)"
   ]
  },
  {
   "cell_type": "markdown",
   "metadata": {},
   "source": [
    "# Compute and visualize individual-level actual vs pred correlations"
   ]
  },
  {
   "cell_type": "code",
   "execution_count": 12,
   "metadata": {},
   "outputs": [],
   "source": [
    "if 'dict_of_individual_similarity_y_preds' not in globals():\n",
    "    with open(\"results/dict_of_individual_similarity_y_preds.pickle\", \"rb\") as handle:\n",
    "#     with open(\"results/dict_of_individual_similarity_y_preds_paragram.pickle\", \"rb\") as handle:\n",
    "        dict_of_individual_similarity_y_preds = pickle.load(handle)"
   ]
  },
  {
   "cell_type": "code",
   "execution_count": 13,
   "metadata": {},
   "outputs": [],
   "source": [
    "all_participant_rs = []\n",
    "dims = dict_of_individual_ys.keys()\n",
    "for dim in dims:\n",
    "    df_ys      = dict_of_individual_ys[dim]\n",
    "    df_y_preds = dict_of_individual_similarity_y_preds[dim]\n",
    "    dim_rs = []\n",
    "    for ys, y_preds in zip(df_ys.values, df_y_preds.values):\n",
    "        y_not_na_idx = ~np.isnan(ys.astype(float))\n",
    "\n",
    "        ys_not_na      = ys[y_not_na_idx]\n",
    "        y_preds_not_na = y_preds[y_not_na_idx]\n",
    "        \n",
    "        r, _ = pearsonr(ys_not_na, y_preds_not_na)\n",
    "        dim_rs.append(r)\n",
    "    all_participant_rs.append(dim_rs)\n",
    "all_participant_rs_df = pd.DataFrame(all_participant_rs, index=dims).T"
   ]
  },
  {
   "cell_type": "code",
   "execution_count": 14,
   "metadata": {},
   "outputs": [],
   "source": [
    "all_participant_rs_df_stacked = all_participant_rs_df.stack().reset_index()\n",
    "all_participant_rs_df_stacked.columns = ['participant_number', 'Judgment Dimension', 'Correlation of Pred vs Actual']"
   ]
  },
  {
   "cell_type": "code",
   "execution_count": 15,
   "metadata": {},
   "outputs": [
    {
     "data": {
      "text/plain": [
       "participant_number               17.357143\n",
       "Correlation of Pred vs Actual     0.211052\n",
       "dtype: float64"
      ]
     },
     "execution_count": 15,
     "metadata": {},
     "output_type": "execute_result"
    }
   ],
   "source": [
    "all_participant_rs_df_stacked.groupby('Judgment Dimension').mean().abs().mean()"
   ]
  },
  {
   "cell_type": "code",
   "execution_count": 16,
   "metadata": {},
   "outputs": [],
   "source": [
    "all_participant_rs_df_stacked.to_csv('results/individual-level_similarity_model_results.csv')"
   ]
  },
  {
   "cell_type": "code",
   "execution_count": 17,
   "metadata": {},
   "outputs": [
    {
     "data": {
      "image/png": "[encoded data removed]",
      "text/plain": [
       "<Figure size 1080x576 with 1 Axes>"
      ]
     },
     "metadata": {},
     "output_type": "display_data"
    }
   ],
   "source": [
    "plt.figure(figsize=(15,8))\n",
    "plt.xticks(rotation=45);\n",
    "sns.barplot(data=all_participant_rs_df_stacked, x='Judgment Dimension', y='Correlation of Pred vs Actual', color='gray');\n",
    "plt.savefig('figures/individual_level_similarity_pred_v_actual_correlation_barplots.png')\n",
    "# plt.savefig('figures/individual_level_similarity_pred_v_actual_correlation_barplots_paragram.png')"
   ]
  },
  {
   "cell_type": "code",
   "execution_count": null,
   "metadata": {},
   "outputs": [],
   "source": []
  }
 ],
 "metadata": {
  "kernelspec": {
   "display_name": "Python 3",
   "language": "python",
   "name": "python3"
  },
  "language_info": {
   "codemirror_mode": {
    "name": "ipython",
    "version": 3
   },
   "file_extension": ".py",
   "mimetype": "text/x-python",
   "name": "python",
   "nbconvert_exporter": "python",
   "pygments_lexer": "ipython3",
   "version": "3.6.5"
  }
 },
 "nbformat": 4,
 "nbformat_minor": 2
}
